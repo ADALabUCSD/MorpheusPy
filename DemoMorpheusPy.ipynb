{
 "cells": [
  {
   "cell_type": "markdown",
   "metadata": {},
   "source": [
    "## Demo for Strata Conf: Running Log. Reg. with Morpheus on Walmart 3-table dataset:"
   ]
  },
  {
   "cell_type": "markdown",
   "metadata": {},
   "source": [
    "### Load requisite libraries, source files, and base table data files."
   ]
  },
  {
   "cell_type": "code",
   "execution_count": 1,
   "metadata": {},
   "outputs": [
    {
     "name": "stdout",
     "output_type": "stream",
     "text": [
      "Loaded data\n"
     ]
    }
   ],
   "source": [
    "import numpy as np\n",
    "from scipy.io import mmread\n",
    "from scipy.sparse import hstack\n",
    "import time\n",
    "import morpheus.normalized_matrix as nm\n",
    "from morpheus.algorithms.logistic_regression import NormalizedLogisticRegression as LogReg\n",
    "\n",
    "s = np.matrix(np.genfromtxt('examples/data/Walmart/MLSraw.txt', skip_header=True, dtype=int)).T\n",
    "join_set1 = np.genfromtxt('examples/data/Walmart/MLFK1.csv', skip_header=True, dtype=int)\n",
    "r1 = mmread('examples/data/Walmart/MLR1Sparse.txt')\n",
    "join_set2 = np.genfromtxt('examples/data/Walmart/MLFK2.csv', skip_header=True, dtype=int)\n",
    "r2 = mmread('examples/data/Walmart/MLR2Sparse.txt')\n",
    "k = [join_set1 - 1, join_set2 - 1]\n",
    "Y = np.matrix(np.genfromtxt('examples/data/Walmart/MLY.csv', skip_header=True, dtype=int)).T\n",
    "\n",
    "print \"Loaded data\""
   ]
  },
  {
   "cell_type": "markdown",
   "metadata": {},
   "source": [
    "### Create regular single table (Materialized) matrix."
   ]
  },
  {
   "cell_type": "code",
   "execution_count": 2,
   "metadata": {},
   "outputs": [
    {
     "name": "stdout",
     "output_type": "stream",
     "text": [
      "Created Materialized matrix. 0.328175067902 seconds\n"
     ]
    }
   ],
   "source": [
    "# Create regular single table (Materialized) matrix.\n",
    "t = time.time()\n",
    "T = hstack((s, r1.tocsr()[k[0]], r2.tocsr()[k[1]]))\n",
    "timetaken = time.time() - t\n",
    "print \"Created Materialized matrix.\", timetaken, \"seconds\""
   ]
  },
  {
   "cell_type": "markdown",
   "metadata": {},
   "source": [
    "### Create Normalized Matrix for Morpheus."
   ]
  },
  {
   "cell_type": "code",
   "execution_count": 3,
   "metadata": {},
   "outputs": [
    {
     "name": "stdout",
     "output_type": "stream",
     "text": [
      "Created Normalized matrix. 0.000217914581299 seconds\n"
     ]
    }
   ],
   "source": [
    "t = time.time()\n",
    "normalized_matrix = nm.NormalizedMatrix(s, [r1, r2], k)\n",
    "timetaken = time.time() - t\n",
    "print \"Created Normalized matrix.\", timetaken, \"seconds\""
   ]
  },
  {
   "cell_type": "markdown",
   "metadata": {},
   "source": [
    "### Initialize Logistic Regression weights and hyper-parameters."
   ]
  },
  {
   "cell_type": "code",
   "execution_count": 4,
   "metadata": {},
   "outputs": [],
   "source": [
    "w_init = np.matrix(np.random.randn(T.shape[1], 1))\n",
    "w_init2 = np.matrix(w_init, copy=True)\n",
    "gamma = 0.001\n",
    "iterations = 20"
   ]
  },
  {
   "cell_type": "markdown",
   "metadata": {},
   "source": [
    "### Run Logistic Regression with regular Materialized matrix."
   ]
  },
  {
   "cell_type": "code",
   "execution_count": 5,
   "metadata": {},
   "outputs": [
    {
     "name": "stdout",
     "output_type": "stream",
     "text": [
      "Materialized execution started\n",
      "Materialized execution done. 0.891387939453 seconds\n"
     ]
    }
   ],
   "source": [
    "print \"Materialized execution started\"\n",
    "logregMat = LogReg()\n",
    "t = time.time()\n",
    "logregMat.fit(T, Y, w_init=w_init)\n",
    "timemat = time.time() - t\n",
    "print \"Materialized execution done.\", timemat, \"seconds\""
   ]
  },
  {
   "cell_type": "markdown",
   "metadata": {},
   "source": [
    "### Run Logistic Regression on Morpheus with Normalized matrix."
   ]
  },
  {
   "cell_type": "code",
   "execution_count": 6,
   "metadata": {},
   "outputs": [
    {
     "name": "stdout",
     "output_type": "stream",
     "text": [
      "Morpheus execution started\n",
      "Morpheus execution done. 0.295523881912 seconds\n",
      "Runtime Speedup of Morpheus over Materialized: 3.01629747716\n"
     ]
    }
   ],
   "source": [
    "print \"Morpheus execution started\"\n",
    "logregMorph = LogReg()\n",
    "t = time.time()\n",
    "logregMorph.fit(normalized_matrix, Y, w_init=w_init2)\n",
    "timemorph = time.time() - t\n",
    "print \"Morpheus execution done.\", timemorph, \"seconds\"\n",
    "print \"Runtime Speedup of Morpheus over Materialized:\", timemat / timemorph"
   ]
  },
  {
   "cell_type": "markdown",
   "metadata": {},
   "source": [
    "### Check if both approaches return same weights."
   ]
  },
  {
   "cell_type": "code",
   "execution_count": 7,
   "metadata": {},
   "outputs": [
    {
     "name": "stdout",
     "output_type": "stream",
     "text": [
      "[[-1.1686932   1.69645199 -0.04188097  0.24049617  0.3112689 ]]\n",
      "[[-1.1686932   1.69645199 -0.04188097  0.24049617  0.3112689 ]]\n"
     ]
    }
   ],
   "source": [
    "print logregMat.w[1:6].T\n",
    "print logregMorph.w[1:6].T"
   ]
  },
  {
   "cell_type": "code",
   "execution_count": 8,
   "metadata": {},
   "outputs": [
    {
     "name": "stdout",
     "output_type": "stream",
     "text": [
      "Success: Both approches return same weights.\n"
     ]
    }
   ],
   "source": [
    "result_eps = 1e-6\n",
    "if (np.linalg.norm(logregMat.w - logregMorph.w) < result_eps) :\n",
    "  print \"Success: Both approches return same weights.\"\n",
    "else :\n",
    "  print \"Failed: The approches return different weights.\""
   ]
  }
 ],
 "metadata": {
  "kernelspec": {
   "display_name": "Python 2",
   "language": "python",
   "name": "python2"
  },
  "language_info": {
   "codemirror_mode": {
    "name": "ipython",
    "version": 2
   },
   "file_extension": ".py",
   "mimetype": "text/x-python",
   "name": "python",
   "nbconvert_exporter": "python",
   "pygments_lexer": "ipython2",
   "version": "2.7.16"
  }
 },
 "nbformat": 4,
 "nbformat_minor": 2
}
